{
  "nbformat": 4,
  "nbformat_minor": 0,
  "metadata": {
    "colab": {
      "name": "Wall Crack Detection Final.ipynb",
      "provenance": [],
      "authorship_tag": "ABX9TyNGf3Q/CC/8MsV2xQWvKyWO",
      "include_colab_link": true
    },
    "kernelspec": {
      "name": "python3",
      "display_name": "Python 3"
    },
    "language_info": {
      "name": "python"
    },
    "accelerator": "GPU",
    "widgets": {
      "application/vnd.jupyter.widget-state+json": {
        "2537560b177d461eb2f07225aa54403f": {
          "model_module": "@jupyter-widgets/controls",
          "model_name": "HBoxModel",
          "model_module_version": "1.5.0",
          "state": {
            "_view_name": "HBoxView",
            "_dom_classes": [],
            "_model_name": "HBoxModel",
            "_view_module": "@jupyter-widgets/controls",
            "_model_module_version": "1.5.0",
            "_view_count": null,
            "_view_module_version": "1.5.0",
            "box_style": "",
            "layout": "IPY_MODEL_c040fd7370aa4c728842bdf4b259d8c5",
            "_model_module": "@jupyter-widgets/controls",
            "children": [
              "IPY_MODEL_b5d8f684377d4cd5870b6d2457b91797",
              "IPY_MODEL_138e2debdd1d48b29f04ea406da1818a",
              "IPY_MODEL_40166a0379ca4f34a22d97e42c222afd"
            ]
          }
        },
        "c040fd7370aa4c728842bdf4b259d8c5": {
          "model_module": "@jupyter-widgets/base",
          "model_name": "LayoutModel",
          "model_module_version": "1.2.0",
          "state": {
            "_view_name": "LayoutView",
            "grid_template_rows": null,
            "right": null,
            "justify_content": null,
            "_view_module": "@jupyter-widgets/base",
            "overflow": null,
            "_model_module_version": "1.2.0",
            "_view_count": null,
            "flex_flow": null,
            "width": null,
            "min_width": null,
            "border": null,
            "align_items": null,
            "bottom": null,
            "_model_module": "@jupyter-widgets/base",
            "top": null,
            "grid_column": null,
            "overflow_y": null,
            "overflow_x": null,
            "grid_auto_flow": null,
            "grid_area": null,
            "grid_template_columns": null,
            "flex": null,
            "_model_name": "LayoutModel",
            "justify_items": null,
            "grid_row": null,
            "max_height": null,
            "align_content": null,
            "visibility": null,
            "align_self": null,
            "height": null,
            "min_height": null,
            "padding": null,
            "grid_auto_rows": null,
            "grid_gap": null,
            "max_width": null,
            "order": null,
            "_view_module_version": "1.2.0",
            "grid_template_areas": null,
            "object_position": null,
            "object_fit": null,
            "grid_auto_columns": null,
            "margin": null,
            "display": null,
            "left": null
          }
        },
        "b5d8f684377d4cd5870b6d2457b91797": {
          "model_module": "@jupyter-widgets/controls",
          "model_name": "HTMLModel",
          "model_module_version": "1.5.0",
          "state": {
            "_view_name": "HTMLView",
            "style": "IPY_MODEL_afef42cc6c0f426898e92123cb6964a3",
            "_dom_classes": [],
            "description": "",
            "_model_name": "HTMLModel",
            "placeholder": "​",
            "_view_module": "@jupyter-widgets/controls",
            "_model_module_version": "1.5.0",
            "value": "100%",
            "_view_count": null,
            "_view_module_version": "1.5.0",
            "description_tooltip": null,
            "_model_module": "@jupyter-widgets/controls",
            "layout": "IPY_MODEL_e4cb69afe5644886ae3eb324b2e2ee21"
          }
        },
        "138e2debdd1d48b29f04ea406da1818a": {
          "model_module": "@jupyter-widgets/controls",
          "model_name": "FloatProgressModel",
          "model_module_version": "1.5.0",
          "state": {
            "_view_name": "ProgressView",
            "style": "IPY_MODEL_8b9d1122c2444ed3b04c3309b3c5fe6b",
            "_dom_classes": [],
            "description": "",
            "_model_name": "FloatProgressModel",
            "bar_style": "success",
            "max": 167502836,
            "_view_module": "@jupyter-widgets/controls",
            "_model_module_version": "1.5.0",
            "value": 167502836,
            "_view_count": null,
            "_view_module_version": "1.5.0",
            "orientation": "horizontal",
            "min": 0,
            "description_tooltip": null,
            "_model_module": "@jupyter-widgets/controls",
            "layout": "IPY_MODEL_6593c6104ad4432292f10ce893c6d359"
          }
        },
        "40166a0379ca4f34a22d97e42c222afd": {
          "model_module": "@jupyter-widgets/controls",
          "model_name": "HTMLModel",
          "model_module_version": "1.5.0",
          "state": {
            "_view_name": "HTMLView",
            "style": "IPY_MODEL_07e85917eab94216aee0d11bb9d9c080",
            "_dom_classes": [],
            "description": "",
            "_model_name": "HTMLModel",
            "placeholder": "​",
            "_view_module": "@jupyter-widgets/controls",
            "_model_module_version": "1.5.0",
            "value": " 160M/160M [00:01&lt;00:00, 109MB/s]",
            "_view_count": null,
            "_view_module_version": "1.5.0",
            "description_tooltip": null,
            "_model_module": "@jupyter-widgets/controls",
            "layout": "IPY_MODEL_4a92f44d30a94567964104d9349ef6be"
          }
        },
        "afef42cc6c0f426898e92123cb6964a3": {
          "model_module": "@jupyter-widgets/controls",
          "model_name": "DescriptionStyleModel",
          "model_module_version": "1.5.0",
          "state": {
            "_view_name": "StyleView",
            "_model_name": "DescriptionStyleModel",
            "description_width": "",
            "_view_module": "@jupyter-widgets/base",
            "_model_module_version": "1.5.0",
            "_view_count": null,
            "_view_module_version": "1.2.0",
            "_model_module": "@jupyter-widgets/controls"
          }
        },
        "e4cb69afe5644886ae3eb324b2e2ee21": {
          "model_module": "@jupyter-widgets/base",
          "model_name": "LayoutModel",
          "model_module_version": "1.2.0",
          "state": {
            "_view_name": "LayoutView",
            "grid_template_rows": null,
            "right": null,
            "justify_content": null,
            "_view_module": "@jupyter-widgets/base",
            "overflow": null,
            "_model_module_version": "1.2.0",
            "_view_count": null,
            "flex_flow": null,
            "width": null,
            "min_width": null,
            "border": null,
            "align_items": null,
            "bottom": null,
            "_model_module": "@jupyter-widgets/base",
            "top": null,
            "grid_column": null,
            "overflow_y": null,
            "overflow_x": null,
            "grid_auto_flow": null,
            "grid_area": null,
            "grid_template_columns": null,
            "flex": null,
            "_model_name": "LayoutModel",
            "justify_items": null,
            "grid_row": null,
            "max_height": null,
            "align_content": null,
            "visibility": null,
            "align_self": null,
            "height": null,
            "min_height": null,
            "padding": null,
            "grid_auto_rows": null,
            "grid_gap": null,
            "max_width": null,
            "order": null,
            "_view_module_version": "1.2.0",
            "grid_template_areas": null,
            "object_position": null,
            "object_fit": null,
            "grid_auto_columns": null,
            "margin": null,
            "display": null,
            "left": null
          }
        },
        "8b9d1122c2444ed3b04c3309b3c5fe6b": {
          "model_module": "@jupyter-widgets/controls",
          "model_name": "ProgressStyleModel",
          "model_module_version": "1.5.0",
          "state": {
            "_view_name": "StyleView",
            "_model_name": "ProgressStyleModel",
            "description_width": "",
            "_view_module": "@jupyter-widgets/base",
            "_model_module_version": "1.5.0",
            "_view_count": null,
            "_view_module_version": "1.2.0",
            "bar_color": null,
            "_model_module": "@jupyter-widgets/controls"
          }
        },
        "6593c6104ad4432292f10ce893c6d359": {
          "model_module": "@jupyter-widgets/base",
          "model_name": "LayoutModel",
          "model_module_version": "1.2.0",
          "state": {
            "_view_name": "LayoutView",
            "grid_template_rows": null,
            "right": null,
            "justify_content": null,
            "_view_module": "@jupyter-widgets/base",
            "overflow": null,
            "_model_module_version": "1.2.0",
            "_view_count": null,
            "flex_flow": null,
            "width": null,
            "min_width": null,
            "border": null,
            "align_items": null,
            "bottom": null,
            "_model_module": "@jupyter-widgets/base",
            "top": null,
            "grid_column": null,
            "overflow_y": null,
            "overflow_x": null,
            "grid_auto_flow": null,
            "grid_area": null,
            "grid_template_columns": null,
            "flex": null,
            "_model_name": "LayoutModel",
            "justify_items": null,
            "grid_row": null,
            "max_height": null,
            "align_content": null,
            "visibility": null,
            "align_self": null,
            "height": null,
            "min_height": null,
            "padding": null,
            "grid_auto_rows": null,
            "grid_gap": null,
            "max_width": null,
            "order": null,
            "_view_module_version": "1.2.0",
            "grid_template_areas": null,
            "object_position": null,
            "object_fit": null,
            "grid_auto_columns": null,
            "margin": null,
            "display": null,
            "left": null
          }
        },
        "07e85917eab94216aee0d11bb9d9c080": {
          "model_module": "@jupyter-widgets/controls",
          "model_name": "DescriptionStyleModel",
          "model_module_version": "1.5.0",
          "state": {
            "_view_name": "StyleView",
            "_model_name": "DescriptionStyleModel",
            "description_width": "",
            "_view_module": "@jupyter-widgets/base",
            "_model_module_version": "1.5.0",
            "_view_count": null,
            "_view_module_version": "1.2.0",
            "_model_module": "@jupyter-widgets/controls"
          }
        },
        "4a92f44d30a94567964104d9349ef6be": {
          "model_module": "@jupyter-widgets/base",
          "model_name": "LayoutModel",
          "model_module_version": "1.2.0",
          "state": {
            "_view_name": "LayoutView",
            "grid_template_rows": null,
            "right": null,
            "justify_content": null,
            "_view_module": "@jupyter-widgets/base",
            "overflow": null,
            "_model_module_version": "1.2.0",
            "_view_count": null,
            "flex_flow": null,
            "width": null,
            "min_width": null,
            "border": null,
            "align_items": null,
            "bottom": null,
            "_model_module": "@jupyter-widgets/base",
            "top": null,
            "grid_column": null,
            "overflow_y": null,
            "overflow_x": null,
            "grid_auto_flow": null,
            "grid_area": null,
            "grid_template_columns": null,
            "flex": null,
            "_model_name": "LayoutModel",
            "justify_items": null,
            "grid_row": null,
            "max_height": null,
            "align_content": null,
            "visibility": null,
            "align_self": null,
            "height": null,
            "min_height": null,
            "padding": null,
            "grid_auto_rows": null,
            "grid_gap": null,
            "max_width": null,
            "order": null,
            "_view_module_version": "1.2.0",
            "grid_template_areas": null,
            "object_position": null,
            "object_fit": null,
            "grid_auto_columns": null,
            "margin": null,
            "display": null,
            "left": null
          }
        }
      }
    }
  },
  "cells": [
    {
      "cell_type": "markdown",
      "metadata": {
        "id": "view-in-github",
        "colab_type": "text"
      },
      "source": [
        "<a href=\"https://colab.research.google.com/github/Akash9812/Wall-Crack-Detection-/blob/main/Wall_Crack_Detection_Final.ipynb\" target=\"_parent\"><img src=\"https://colab.research.google.com/assets/colab-badge.svg\" alt=\"Open In Colab\"/></a>"
      ]
    },
    {
      "cell_type": "code",
      "metadata": {
        "colab": {
          "base_uri": "https://localhost:8080/"
        },
        "id": "n_UFPT1jPWSz",
        "outputId": "1b1e8ed5-2362-4e1e-dc7b-e89698174a70"
      },
      "source": [
        "!pip install detecto"
      ],
      "execution_count": 2,
      "outputs": [
        {
          "output_type": "stream",
          "name": "stdout",
          "text": [
            "Collecting detecto\n",
            "  Downloading detecto-1.2.1-py3-none-any.whl (25 kB)\n",
            "Requirement already satisfied: torchvision in /usr/local/lib/python3.7/dist-packages (from detecto) (0.10.0+cu102)\n",
            "Requirement already satisfied: torch in /usr/local/lib/python3.7/dist-packages (from detecto) (1.9.0+cu102)\n",
            "Requirement already satisfied: matplotlib in /usr/local/lib/python3.7/dist-packages (from detecto) (3.2.2)\n",
            "Requirement already satisfied: tqdm in /usr/local/lib/python3.7/dist-packages (from detecto) (4.62.3)\n",
            "Requirement already satisfied: pandas in /usr/local/lib/python3.7/dist-packages (from detecto) (1.1.5)\n",
            "Requirement already satisfied: opencv-python in /usr/local/lib/python3.7/dist-packages (from detecto) (4.1.2.30)\n",
            "Requirement already satisfied: python-dateutil>=2.1 in /usr/local/lib/python3.7/dist-packages (from matplotlib->detecto) (2.8.2)\n",
            "Requirement already satisfied: numpy>=1.11 in /usr/local/lib/python3.7/dist-packages (from matplotlib->detecto) (1.19.5)\n",
            "Requirement already satisfied: cycler>=0.10 in /usr/local/lib/python3.7/dist-packages (from matplotlib->detecto) (0.10.0)\n",
            "Requirement already satisfied: pyparsing!=2.0.4,!=2.1.2,!=2.1.6,>=2.0.1 in /usr/local/lib/python3.7/dist-packages (from matplotlib->detecto) (2.4.7)\n",
            "Requirement already satisfied: kiwisolver>=1.0.1 in /usr/local/lib/python3.7/dist-packages (from matplotlib->detecto) (1.3.2)\n",
            "Requirement already satisfied: six in /usr/local/lib/python3.7/dist-packages (from cycler>=0.10->matplotlib->detecto) (1.15.0)\n",
            "Requirement already satisfied: pytz>=2017.2 in /usr/local/lib/python3.7/dist-packages (from pandas->detecto) (2018.9)\n",
            "Requirement already satisfied: typing-extensions in /usr/local/lib/python3.7/dist-packages (from torch->detecto) (3.7.4.3)\n",
            "Requirement already satisfied: pillow>=5.3.0 in /usr/local/lib/python3.7/dist-packages (from torchvision->detecto) (7.1.2)\n",
            "Installing collected packages: detecto\n",
            "Successfully installed detecto-1.2.1\n"
          ]
        }
      ]
    },
    {
      "cell_type": "code",
      "metadata": {
        "colab": {
          "base_uri": "https://localhost:8080/"
        },
        "id": "9RWOAsmQPfg_",
        "outputId": "5c53a962-18e4-40db-dae4-d9634b64a174"
      },
      "source": [
        "# Give the Access of the Drive\n",
        "from google.colab import drive\n",
        "drive.mount('/content/drive')"
      ],
      "execution_count": 6,
      "outputs": [
        {
          "output_type": "stream",
          "name": "stdout",
          "text": [
            "Mounted at /content/drive\n"
          ]
        }
      ]
    },
    {
      "cell_type": "code",
      "metadata": {
        "colab": {
          "base_uri": "https://localhost:8080/"
        },
        "id": "q40P9Mu8PtGG",
        "outputId": "e4bd63cf-7363-4ec8-adf9-078681a6c31b"
      },
      "source": [
        "from os import listdir\n",
        "location = '/content/drive/MyDrive/All data'\n",
        "listdir(location)"
      ],
      "execution_count": 7,
      "outputs": [
        {
          "output_type": "execute_result",
          "data": {
            "text/plain": [
              "['108.jpg',\n",
              " '103.jpg',\n",
              " '101.jpg',\n",
              " '102.jpg',\n",
              " '107.jpg',\n",
              " '114.jpg',\n",
              " '11.jpg',\n",
              " '19.jpg',\n",
              " '17.jpg',\n",
              " '123.jpg',\n",
              " '121.jpg',\n",
              " '120.jpg',\n",
              " '21.jpg',\n",
              " '13.jpg',\n",
              " '16.jpg',\n",
              " '12.jpg',\n",
              " '39.jpg',\n",
              " '46.jpg',\n",
              " '56.jpg',\n",
              " '53.jpg',\n",
              " '52.jpg',\n",
              " '57.jpg',\n",
              " '49.jpg',\n",
              " '3.jpg',\n",
              " '61.jpg',\n",
              " '33.jpg',\n",
              " '64.jpg',\n",
              " '40.jpg',\n",
              " '47.jpg',\n",
              " '36.jpg',\n",
              " '62.jpg',\n",
              " '6.jpg',\n",
              " '41.jpg',\n",
              " '34.jpg',\n",
              " '45.jpg',\n",
              " '29.jpg',\n",
              " '28.jpg',\n",
              " '54.jpg',\n",
              " '32.jpg',\n",
              " '98.jpg',\n",
              " '95.jpg',\n",
              " '87.jpg',\n",
              " '75.jpg',\n",
              " '82.jpg',\n",
              " '86.jpg',\n",
              " '77.jpg',\n",
              " '91.jpg',\n",
              " '8.jpg',\n",
              " '83.jpg',\n",
              " '90.jpg',\n",
              " '10.jpg',\n",
              " '79.jpg',\n",
              " '1.jpg',\n",
              " '68.jpg',\n",
              " '99.jpg',\n",
              " '72.jpg',\n",
              " '67.jpg',\n",
              " '15.jpg',\n",
              " '14.jpg',\n",
              " '23.jpg',\n",
              " '37.jpg',\n",
              " '31.jpg',\n",
              " '18.jpg',\n",
              " '26.jpg',\n",
              " '38.jpg',\n",
              " '24.jpg',\n",
              " '4.jpg',\n",
              " '30.jpg',\n",
              " '35.jpg',\n",
              " '25.jpg',\n",
              " '27.jpg',\n",
              " '20.jpg',\n",
              " '2.jpg',\n",
              " '5.jpg',\n",
              " '22.jpg',\n",
              " '9.jpg',\n",
              " '7.jpg',\n",
              " '3.xml',\n",
              " '6.xml',\n",
              " '8.xml',\n",
              " '11.xml',\n",
              " '12.xml',\n",
              " '13.xml',\n",
              " '17.xml',\n",
              " '19.xml',\n",
              " '21.xml',\n",
              " '28.xml',\n",
              " '29.xml',\n",
              " '32.xml',\n",
              " '33.xml',\n",
              " '34.xml',\n",
              " '39.xml',\n",
              " '40.xml',\n",
              " '41.xml',\n",
              " '45.xml',\n",
              " '46.xml',\n",
              " '47.xml',\n",
              " '49.xml',\n",
              " '52.xml',\n",
              " '53.xml',\n",
              " '54.xml',\n",
              " '56.xml',\n",
              " '57.xml',\n",
              " '61.xml',\n",
              " '62.xml',\n",
              " '64.xml',\n",
              " '67.xml',\n",
              " '68.xml',\n",
              " '72.xml',\n",
              " '75.xml',\n",
              " '77.xml',\n",
              " '79.xml',\n",
              " '82.xml',\n",
              " '83.xml',\n",
              " '86.xml',\n",
              " '87.xml',\n",
              " '90.xml',\n",
              " '91.xml',\n",
              " '95.xml',\n",
              " '98.xml',\n",
              " '99.xml',\n",
              " '101.xml',\n",
              " '102.xml',\n",
              " '103.xml',\n",
              " '107.xml',\n",
              " '114.xml',\n",
              " '120.xml',\n",
              " '121.xml',\n",
              " '123.xml',\n",
              " '1.xml',\n",
              " '2.xml',\n",
              " '4.xml',\n",
              " '5.xml',\n",
              " '7.xml',\n",
              " '9.xml',\n",
              " '10.xml',\n",
              " '14.xml',\n",
              " '15.xml',\n",
              " '18.xml',\n",
              " '22.xml',\n",
              " '20.xml',\n",
              " '23.xml',\n",
              " '24.xml',\n",
              " '25.xml',\n",
              " '26.xml',\n",
              " '27.xml',\n",
              " '30.xml',\n",
              " '31.xml',\n",
              " '35.xml',\n",
              " '37.xml',\n",
              " '38.xml']"
            ]
          },
          "metadata": {},
          "execution_count": 7
        }
      ]
    },
    {
      "cell_type": "code",
      "metadata": {
        "id": "OJ4CW2BBQJ3D"
      },
      "source": [
        "import matplotlib.pyplot as plt\n",
        "from detecto.utils import read_image"
      ],
      "execution_count": 8,
      "outputs": []
    },
    {
      "cell_type": "code",
      "metadata": {
        "colab": {
          "base_uri": "https://localhost:8080/",
          "height": 269
        },
        "id": "gina_ytnQOp-",
        "outputId": "4220c5b0-a2d5-4c9c-de8e-20f129da7d74"
      },
      "source": [
        "path = '/content/drive/MyDrive/All data/'\n",
        "sample_image = '62.jpg'\n",
        "image = read_image(path +sample_image )\n",
        "plt.imshow(image)\n",
        "plt.show()"
      ],
      "execution_count": 9,
      "outputs": [
        {
          "output_type": "display_data",
          "data": {
            "image/png": "[encoded data removed]",
            "text/plain": [
              "<Figure size 432x288 with 1 Axes>"
            ]
          },
          "metadata": {
            "needs_background": "light"
          }
        }
      ]
    },
    {
      "cell_type": "code",
      "metadata": {
        "id": "QEsXBMcIQW0M"
      },
      "source": [
        "from detecto.core import Dataset\n",
        "dataset = Dataset(path)"
      ],
      "execution_count": 10,
      "outputs": []
    },
    {
      "cell_type": "code",
      "metadata": {
        "id": "fcF-Nw9cQZ6C"
      },
      "source": [
        "from detecto.core import DataLoader,Model"
      ],
      "execution_count": 11,
      "outputs": []
    },
    {
      "cell_type": "code",
      "metadata": {
        "colab": {
          "base_uri": "https://localhost:8080/",
          "height": 86,
          "referenced_widgets": [
            "2537560b177d461eb2f07225aa54403f",
            "c040fd7370aa4c728842bdf4b259d8c5",
            "b5d8f684377d4cd5870b6d2457b91797",
            "138e2debdd1d48b29f04ea406da1818a",
            "40166a0379ca4f34a22d97e42c222afd",
            "afef42cc6c0f426898e92123cb6964a3",
            "e4cb69afe5644886ae3eb324b2e2ee21",
            "8b9d1122c2444ed3b04c3309b3c5fe6b",
            "6593c6104ad4432292f10ce893c6d359",
            "07e85917eab94216aee0d11bb9d9c080",
            "4a92f44d30a94567964104d9349ef6be"
          ]
        },
        "id": "PiQcjhZwQj4j",
        "outputId": "5b5a06a6-1734-4229-a44c-1a2cd2161364"
      },
      "source": [
        "labels = ['Cracked','Uncracked']\n",
        "model = Model(labels)"
      ],
      "execution_count": 13,
      "outputs": [
        {
          "output_type": "stream",
          "name": "stderr",
          "text": [
            "Downloading: \"https://download.pytorch.org/models/fasterrcnn_resnet50_fpn_coco-258fb6c6.pth\" to /root/.cache/torch/hub/checkpoints/fasterrcnn_resnet50_fpn_coco-258fb6c6.pth\n"
          ]
        },
        {
          "output_type": "display_data",
          "data": {
            "application/vnd.jupyter.widget-view+json": {
              "model_id": "2537560b177d461eb2f07225aa54403f",
              "version_minor": 0,
              "version_major": 2
            },
            "text/plain": [
              "  0%|          | 0.00/160M [00:00<?, ?B/s]"
            ]
          },
          "metadata": {}
        }
      ]
    },
    {
      "cell_type": "code",
      "metadata": {
        "colab": {
          "base_uri": "https://localhost:8080/"
        },
        "id": "-uWAF1zYQl-V",
        "outputId": "4c52485c-cfbe-4c92-b959-23be9046d922"
      },
      "source": [
        "model.fit(dataset,val_dataset=None, epochs=10)"
      ],
      "execution_count": 18,
      "outputs": [
        {
          "output_type": "stream",
          "name": "stdout",
          "text": [
            "Epoch 1 of 10\n",
            "Begin iterating over training dataset\n"
          ]
        },
        {
          "output_type": "stream",
          "name": "stderr",
          "text": [
            "100%|██████████| 74/74 [00:45<00:00,  1.63it/s]\n"
          ]
        },
        {
          "output_type": "stream",
          "name": "stdout",
          "text": [
            "Epoch 2 of 10\n",
            "Begin iterating over training dataset\n"
          ]
        },
        {
          "output_type": "stream",
          "name": "stderr",
          "text": [
            "100%|██████████| 74/74 [00:42<00:00,  1.74it/s]\n"
          ]
        },
        {
          "output_type": "stream",
          "name": "stdout",
          "text": [
            "Epoch 3 of 10\n",
            "Begin iterating over training dataset\n"
          ]
        },
        {
          "output_type": "stream",
          "name": "stderr",
          "text": [
            "100%|██████████| 74/74 [00:42<00:00,  1.74it/s]\n"
          ]
        },
        {
          "output_type": "stream",
          "name": "stdout",
          "text": [
            "Epoch 4 of 10\n",
            "Begin iterating over training dataset\n"
          ]
        },
        {
          "output_type": "stream",
          "name": "stderr",
          "text": [
            "100%|██████████| 74/74 [00:42<00:00,  1.74it/s]\n"
          ]
        },
        {
          "output_type": "stream",
          "name": "stdout",
          "text": [
            "Epoch 5 of 10\n",
            "Begin iterating over training dataset\n"
          ]
        },
        {
          "output_type": "stream",
          "name": "stderr",
          "text": [
            "100%|██████████| 74/74 [00:42<00:00,  1.74it/s]\n"
          ]
        },
        {
          "output_type": "stream",
          "name": "stdout",
          "text": [
            "Epoch 6 of 10\n",
            "Begin iterating over training dataset\n"
          ]
        },
        {
          "output_type": "stream",
          "name": "stderr",
          "text": [
            "100%|██████████| 74/74 [00:42<00:00,  1.74it/s]\n"
          ]
        },
        {
          "output_type": "stream",
          "name": "stdout",
          "text": [
            "Epoch 7 of 10\n",
            "Begin iterating over training dataset\n"
          ]
        },
        {
          "output_type": "stream",
          "name": "stderr",
          "text": [
            "100%|██████████| 74/74 [00:42<00:00,  1.74it/s]\n"
          ]
        },
        {
          "output_type": "stream",
          "name": "stdout",
          "text": [
            "Epoch 8 of 10\n",
            "Begin iterating over training dataset\n"
          ]
        },
        {
          "output_type": "stream",
          "name": "stderr",
          "text": [
            "100%|██████████| 74/74 [00:42<00:00,  1.73it/s]\n"
          ]
        },
        {
          "output_type": "stream",
          "name": "stdout",
          "text": [
            "Epoch 9 of 10\n",
            "Begin iterating over training dataset\n"
          ]
        },
        {
          "output_type": "stream",
          "name": "stderr",
          "text": [
            "100%|██████████| 74/74 [00:42<00:00,  1.74it/s]\n"
          ]
        },
        {
          "output_type": "stream",
          "name": "stdout",
          "text": [
            "Epoch 10 of 10\n",
            "Begin iterating over training dataset\n"
          ]
        },
        {
          "output_type": "stream",
          "name": "stderr",
          "text": [
            "100%|██████████| 74/74 [00:42<00:00,  1.74it/s]\n"
          ]
        }
      ]
    },
    {
      "cell_type": "code",
      "metadata": {
        "id": "u5kQ8tlvQpgr"
      },
      "source": [
        "image = read_image(path+'62.jpg')\n",
        "labels,boxes,scores = model.predict(image)"
      ],
      "execution_count": 19,
      "outputs": []
    },
    {
      "cell_type": "code",
      "metadata": {
        "colab": {
          "base_uri": "https://localhost:8080/"
        },
        "id": "Jyr5aF1HSakk",
        "outputId": "8a1f7b94-bcd3-45e3-ee1d-9711d4c3b802"
      },
      "source": [
        "print('labels',labels)\n",
        "print('boxes',boxes)\n",
        "print('scores',scores)"
      ],
      "execution_count": 20,
      "outputs": [
        {
          "output_type": "stream",
          "name": "stdout",
          "text": [
            "labels ['Cracked', 'Cracked', 'Cracked', 'Cracked', 'Cracked', 'Uncracked', 'Cracked', 'Cracked', 'Cracked', 'Uncracked', 'Cracked', 'Cracked', 'Cracked', 'Uncracked', 'Cracked', 'Uncracked', 'Uncracked', 'Cracked', 'Cracked', 'Uncracked', 'Uncracked', 'Cracked', 'Cracked', 'Cracked', 'Uncracked', 'Cracked', 'Uncracked', 'Uncracked', 'Uncracked', 'Uncracked', 'Cracked', 'Cracked', 'Cracked', 'Cracked', 'Cracked', 'Uncracked', 'Uncracked', 'Uncracked', 'Uncracked', 'Uncracked', 'Cracked', 'Cracked', 'Cracked', 'Cracked', 'Uncracked', 'Cracked', 'Uncracked', 'Cracked', 'Uncracked']\n",
            "boxes tensor([[184.5967,   0.0000, 256.0000, 130.3302],\n",
            "        [119.6185,   7.1178, 256.0000, 136.2499],\n",
            "        [170.9138,   8.3019, 255.6405, 220.4384],\n",
            "        [ 29.2273,   2.3099, 243.3627, 208.9532],\n",
            "        [171.5462, 145.2189, 191.5765, 163.8488],\n",
            "        [ 31.9015,  50.5705, 256.0000, 256.0000],\n",
            "        [211.5928,  32.6354, 256.0000, 117.6567],\n",
            "        [197.9978, 225.4975, 220.9522, 244.6250],\n",
            "        [ 58.8180, 235.3990,  79.0284, 253.6542],\n",
            "        [  0.0000, 164.4619, 251.8867, 254.8700],\n",
            "        [  9.1941,   2.2678, 231.5392, 106.9412],\n",
            "        [ 24.8668,  20.0284, 151.1880, 248.6244],\n",
            "        [ 67.1446, 117.7653, 228.2221, 254.8894],\n",
            "        [ 89.6552, 117.0632, 248.6386, 255.0486],\n",
            "        [118.4873,  57.4700, 250.9079, 233.7218],\n",
            "        [ 10.9751,  29.1455, 255.9587, 164.6596],\n",
            "        [  0.0000, 128.5889, 139.9776, 252.7760],\n",
            "        [121.5761, 149.5984, 212.3114, 234.5617],\n",
            "        [147.3259,  23.5109, 169.7202,  40.6076],\n",
            "        [ 19.3313,  26.8036, 141.4844, 242.8334],\n",
            "        [  0.0000, 201.9271, 143.5424, 251.9689],\n",
            "        [  9.0519,   7.2078, 153.2258, 148.6456],\n",
            "        [  5.0051,  13.0030,  73.6102, 256.0000],\n",
            "        [ 61.7385, 237.7805,  75.4791, 251.0348],\n",
            "        [ 11.4565, 180.7043,  93.8099, 249.7457],\n",
            "        [173.4706, 149.4760, 188.2664, 161.9394],\n",
            "        [116.0309,  61.5676, 256.0000, 225.8228],\n",
            "        [ 92.9675, 204.3765, 256.0000, 252.1905],\n",
            "        [  0.0000, 222.3159,  85.1443, 254.1177],\n",
            "        [ 30.0185,   3.4837, 161.5779, 169.2348],\n",
            "        [ 53.2564, 234.0765,  90.2595, 254.4731],\n",
            "        [201.0498, 228.0022, 216.1151, 240.8149],\n",
            "        [190.5100, 223.9997, 232.2823, 246.2765],\n",
            "        [ 15.9525,  90.0317, 111.7121, 191.2106],\n",
            "        [206.0079,   8.2373, 249.5176,  97.7991],\n",
            "        [  2.9625,   0.0000, 217.7860, 101.4852],\n",
            "        [ 91.5678,   4.9403, 218.3990, 230.2639],\n",
            "        [  2.4673, 119.5397, 129.2289, 187.5005],\n",
            "        [  0.0000,  19.0637,  65.1921, 246.0642],\n",
            "        [  1.7270,   9.6592, 111.1254, 128.9579],\n",
            "        [153.2896,  81.1331, 176.9684,  97.1315],\n",
            "        [  9.1017,   8.1414, 133.3722,  66.7815],\n",
            "        [142.6896, 122.9513, 237.2556, 221.5543],\n",
            "        [  6.4930, 115.0092, 142.8251, 256.0000],\n",
            "        [111.2575, 168.2938, 248.8309, 236.7388],\n",
            "        [129.9238,  11.3891, 205.2780, 126.5959],\n",
            "        [ 12.6568, 115.3115,  73.4935, 247.9700],\n",
            "        [135.3714,  92.8465, 198.1038, 231.1779],\n",
            "        [  1.3462, 203.0621,  31.5232, 254.5193]])\n",
            "scores tensor([0.8768, 0.5201, 0.4443, 0.3459, 0.3210, 0.2313, 0.2249, 0.2240, 0.2214,\n",
            "        0.2094, 0.2072, 0.1947, 0.1893, 0.1763, 0.1612, 0.1546, 0.1493, 0.1418,\n",
            "        0.1320, 0.1316, 0.1244, 0.1161, 0.1125, 0.1105, 0.0912, 0.0908, 0.0880,\n",
            "        0.0874, 0.0854, 0.0805, 0.0740, 0.0736, 0.0695, 0.0692, 0.0669, 0.0653,\n",
            "        0.0651, 0.0630, 0.0606, 0.0585, 0.0581, 0.0567, 0.0564, 0.0548, 0.0548,\n",
            "        0.0548, 0.0547, 0.0541, 0.0509])\n"
          ]
        }
      ]
    },
    {
      "cell_type": "code",
      "metadata": {
        "colab": {
          "base_uri": "https://localhost:8080/",
          "height": 277
        },
        "id": "DSeSuiSDSbLM",
        "outputId": "1497bead-94e6-4438-cfd0-595dec0f049f"
      },
      "source": [
        "from detecto.visualize import show_labeled_image\n",
        "show_labeled_image(image,boxes[0],labels[0])"
      ],
      "execution_count": 21,
      "outputs": [
        {
          "output_type": "display_data",
          "data": {
            "image/png": "[encoded data removed]",
            "text/plain": [
              "<Figure size 432x288 with 1 Axes>"
            ]
          },
          "metadata": {
            "needs_background": "light"
          }
        }
      ]
    },
    {
      "cell_type": "code",
      "metadata": {
        "id": "BayBxTprSeMc"
      },
      "source": [
        "model.save('Model')"
      ],
      "execution_count": 22,
      "outputs": []
    },
    {
      "cell_type": "code",
      "metadata": {
        "id": "rYl6YP4NUJmX"
      },
      "source": [
        ""
      ],
      "execution_count": null,
      "outputs": []
    }
  ]
}